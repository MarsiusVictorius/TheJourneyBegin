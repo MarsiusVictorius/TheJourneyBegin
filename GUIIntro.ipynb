{
 "cells": [
  {
   "cell_type": "code",
   "execution_count": 3,
   "metadata": {},
   "outputs": [],
   "source": [
    "import tkinter as tk"
   ]
  },
  {
   "cell_type": "code",
   "execution_count": 4,
   "metadata": {},
   "outputs": [],
   "source": [
    "LARGE_FONT = (\"Verdana\", 12)"
   ]
  },
  {
   "cell_type": "code",
   "execution_count": 5,
   "metadata": {},
   "outputs": [],
   "source": [
    "class SeaofBTCapp(tk.Tk):\n",
    "\n",
    "    def __init__(self,*args , **kwargs):\n",
    "\n",
    "        tk.Tk.__init__(self, *args,**kwargs)\n",
    "        container = tk.Frame(self)\n",
    "        \n",
    "        container.pack(side=\"top\", fill=\"both\",expand = True)\n",
    "\n",
    "        container.grid_rowconfigure(0, weight=1)\n",
    "        container.grid_columnconfigure(0, weight=1)\n",
    "\n",
    "        self.frames = {}\n",
    "\n",
    "        frame = StartPage(container,self)\n",
    "\n",
    "        self.frames[StartPage] = frame\n",
    "\n",
    "        frame.grid(row=0, column =0, sticky=\"nsew\")\n",
    "\n",
    "        self.show_frame(StartPage)\n",
    "    \n",
    "    def show_frame(self, cont):\n",
    "        frame = self.frames[cont]\n",
    "        frame.tkraise()\n",
    "        \n",
    "def qf():\n",
    "    print(\"you did it!\")\n",
    "\n",
    "class StartPage(tk.Frame):\n",
    "\n",
    "    def __init__(self, parent, controller):\n",
    "        tk.Frame.__init__(self,parent)\n",
    "        label = tk.Label(self, text=\"Start Page\", font= LARGE_FONT)\n",
    "        label.pack(pady=10,padx=10)\n",
    "        \n",
    "        button1 = tk.Button(self,text = \"Visit Page 1\",command=qf)\n",
    "        button1.pack()\n",
    "        "
   ]
  },
  {
   "cell_type": "code",
   "execution_count": null,
   "metadata": {},
   "outputs": [
    {
     "name": "stdout",
     "output_type": "stream",
     "text": [
      "you did it!\n",
      "you did it!\n"
     ]
    }
   ],
   "source": [
    "app=SeaofBTCapp()\n",
    "app.mainloop()"
   ]
  },
  {
   "cell_type": "code",
   "execution_count": null,
   "metadata": {},
   "outputs": [],
   "source": []
  },
  {
   "cell_type": "code",
   "execution_count": null,
   "metadata": {},
   "outputs": [],
   "source": []
  }
 ],
 "metadata": {
  "kernelspec": {
   "display_name": "Python 3",
   "language": "python",
   "name": "python3"
  },
  "language_info": {
   "codemirror_mode": {
    "name": "ipython",
    "version": 3
   },
   "file_extension": ".py",
   "mimetype": "text/x-python",
   "name": "python",
   "nbconvert_exporter": "python",
   "pygments_lexer": "ipython3",
   "version": "3.6.7"
  }
 },
 "nbformat": 4,
 "nbformat_minor": 2
}
