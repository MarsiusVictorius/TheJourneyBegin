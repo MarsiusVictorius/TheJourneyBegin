{
 "cells": [
  {
   "cell_type": "code",
   "execution_count": 1,
   "metadata": {},
   "outputs": [],
   "source": [
    "import numpy as np\n",
    "import numpy.random as npr\n",
    "import matplotlib.pyplot as plt \n",
    "%matplotlib inline"
   ]
  },
  {
   "cell_type": "code",
   "execution_count": 2,
   "metadata": {},
   "outputs": [
    {
     "data": {
      "text/plain": [
       "array([0.76012179, 0.70237108, 0.17814024, 0.75815776, 0.7866714 ,\n",
       "       0.12318192, 0.4071855 , 0.39929787, 0.24722958, 0.12592706])"
      ]
     },
     "execution_count": 2,
     "metadata": {},
     "output_type": "execute_result"
    }
   ],
   "source": [
    "npr.rand(10)"
   ]
  },
  {
   "cell_type": "code",
   "execution_count": 3,
   "metadata": {},
   "outputs": [
    {
     "data": {
      "text/plain": [
       "array([[0.5912108 , 0.88241562, 0.48844723, 0.64766642, 0.73797993],\n",
       "       [0.28219309, 0.80134205, 0.26599303, 0.13517832, 0.4098703 ],\n",
       "       [0.80369554, 0.69322314, 0.79272418, 0.91772822, 0.11171424],\n",
       "       [0.18995785, 0.7862423 , 0.01921038, 0.41139915, 0.53238453],\n",
       "       [0.60537771, 0.20773691, 0.39752024, 0.85216095, 0.06656303]])"
      ]
     },
     "execution_count": 3,
     "metadata": {},
     "output_type": "execute_result"
    }
   ],
   "source": [
    "npr.rand(5,5)"
   ]
  },
  {
   "cell_type": "code",
   "execution_count": 4,
   "metadata": {},
   "outputs": [
    {
     "data": {
      "text/plain": [
       "array([7.22756838, 8.14053669, 9.60769576, 7.18226837, 8.43529286,\n",
       "       7.17557861, 8.08058278, 6.62489296, 8.8553643 , 7.27005324])"
      ]
     },
     "execution_count": 4,
     "metadata": {},
     "output_type": "execute_result"
    }
   ],
   "source": [
    "a = 5\n",
    "b = 10\n",
    "npr.rand(10) * (b-a)+a"
   ]
  },
  {
   "cell_type": "code",
   "execution_count": 5,
   "metadata": {},
   "outputs": [
    {
     "data": {
      "text/plain": [
       "array([[8.46688374, 5.48321374, 7.98876355, 5.8231512 , 8.37537096],\n",
       "       [5.78578504, 7.89555154, 5.20469747, 8.57085275, 5.76948094],\n",
       "       [9.42445604, 5.78553105, 7.79456582, 9.5638219 , 9.67745774],\n",
       "       [9.50875367, 7.61600638, 8.29962351, 7.93021357, 8.21857581],\n",
       "       [7.5916297 , 7.59470424, 7.74999225, 9.67001999, 5.03762157]])"
      ]
     },
     "execution_count": 5,
     "metadata": {},
     "output_type": "execute_result"
    }
   ],
   "source": [
    "npr.rand(5, 5)*(b-a) + a"
   ]
  },
  {
   "cell_type": "code",
   "execution_count": 6,
   "metadata": {},
   "outputs": [],
   "source": [
    "sample_size = 500\n",
    "rn1 = npr.rand(sample_size, 3)\n",
    "rn2 = npr.randint(0,10, sample_size)\n",
    "rn3 = npr.sample(size=sample_size)\n",
    "a = [0,25,50,75,100]\n",
    "rn4 = npr.choice(a, size=sample_size)"
   ]
  },
  {
   "cell_type": "code",
   "execution_count": 7,
   "metadata": {},
   "outputs": [
    {
     "data": {
      "image/png": "[encoded data removed]",
      "text/plain": [
       "<Figure size 504x504 with 4 Axes>"
      ]
     },
     "metadata": {
      "needs_background": "light"
     },
     "output_type": "display_data"
    }
   ],
   "source": [
    "fig, ((ax1,ax2), (ax3,ax4)) = plt.subplots(nrows=2,ncols=2,figsize=(7,7))\n",
    "\n",
    "ax1.hist(rn1,bins=25,stacked=True)\n",
    "ax1.set_title('rand')\n",
    "ax1.set_ylabel('frequency')\n",
    "ax1.grid(True)\n",
    "\n",
    "ax2.hist(rn2,bins=25)\n",
    "ax2.set_title('randint')\n",
    "ax2.grid(True)\n",
    "\n",
    "ax3.hist(rn3,bins=25)\n",
    "ax3.set_title('sample')\n",
    "ax3.set_ylabel('frequency')\n",
    "ax3.grid(True)\n",
    "\n",
    "ax4.hist(rn1,bins=25)\n",
    "ax4.set_title('choice')\n",
    "ax4.grid(True)"
   ]
  },
  {
   "cell_type": "code",
   "execution_count": null,
   "metadata": {},
   "outputs": [],
   "source": []
  }
 ],
 "metadata": {
  "kernelspec": {
   "display_name": "Python 3",
   "language": "python",
   "name": "python3"
  },
  "language_info": {
   "codemirror_mode": {
    "name": "ipython",
    "version": 3
   },
   "file_extension": ".py",
   "mimetype": "text/x-python",
   "name": "python",
   "nbconvert_exporter": "python",
   "pygments_lexer": "ipython3",
   "version": "3.6.7"
  }
 },
 "nbformat": 4,
 "nbformat_minor": 2
}
