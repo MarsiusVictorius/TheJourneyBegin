{
 "cells": [
  {
   "cell_type": "code",
   "execution_count": 1,
   "metadata": {},
   "outputs": [],
   "source": [
    "from time import time \n",
    "from math import exp,sqrt, log \n",
    "from random import gauss, seed\n"
   ]
  },
  {
   "cell_type": "code",
   "execution_count": 2,
   "metadata": {},
   "outputs": [],
   "source": [
    "seed(20000)\n",
    "t0=time()"
   ]
  },
  {
   "cell_type": "code",
   "execution_count": 3,
   "metadata": {},
   "outputs": [],
   "source": [
    "#Parameters\n",
    "S0 = 100. #initial vlaue\n",
    "K = 105. #strike price\n",
    "T = 1.0 #maturity\n",
    "r = 0.05 #riskless short rate\n",
    "sigma = 0.2 #volatility \n",
    "M = 50 # number of time steps \n",
    "dt = T/M #length of time interval\n",
    "I = 250000 # number of paths \n",
    "\n",
    "\n"
   ]
  },
  {
   "cell_type": "code",
   "execution_count": 4,
   "metadata": {},
   "outputs": [],
   "source": [
    "#simulation I paths with M time steps\n",
    "S=[]\n",
    "for i in range(I):\n",
    "    path = []\n",
    "    for t in range(M + 1):\n",
    "        if t ==0:\n",
    "            path.append(S0)\n",
    "        else:\n",
    "            z = gauss(0.0, 1.0)\n",
    "            St = path[t-1] * exp((r - 0.5 * sigma ** 2) * dt + sigma * sqrt(dt) * z)\n",
    "            \n",
    "            path.append(St)\n",
    "            S.append(path)"
   ]
  },
  {
   "cell_type": "code",
   "execution_count": 5,
   "metadata": {},
   "outputs": [],
   "source": [
    "# monte carlo estimator\n",
    "C0 = exp(-r * T) * sum([max(path[-1] - K, 0) for path in S]) / I"
   ]
  },
  {
   "cell_type": "code",
   "execution_count": 7,
   "metadata": {},
   "outputs": [
    {
     "name": "stdout",
     "output_type": "stream",
     "text": [
      " European Option value 399.952\n",
      " Duration in Seconds    54.699\n"
     ]
    }
   ],
   "source": [
    "#results.\n",
    "tpy = time() -t0\n",
    "print (\" European Option value %7.3f\" % C0)\n",
    "print (\" Duration in Seconds   %7.3f\" % tpy)"
   ]
  },
  {
   "cell_type": "code",
   "execution_count": null,
   "metadata": {},
   "outputs": [],
   "source": []
  },
  {
   "cell_type": "code",
   "execution_count": null,
   "metadata": {},
   "outputs": [],
   "source": []
  }
 ],
 "metadata": {
  "kernelspec": {
   "display_name": "Python 3",
   "language": "python",
   "name": "python3"
  },
  "language_info": {
   "codemirror_mode": {
    "name": "ipython",
    "version": 3
   },
   "file_extension": ".py",
   "mimetype": "text/x-python",
   "name": "python",
   "nbconvert_exporter": "python",
   "pygments_lexer": "ipython3",
   "version": "3.6.7"
  }
 },
 "nbformat": 4,
 "nbformat_minor": 2
}
