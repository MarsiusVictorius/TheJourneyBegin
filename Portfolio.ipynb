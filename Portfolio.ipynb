{
 "cells": [
  {
   "cell_type": "code",
   "execution_count": 1,
   "metadata": {},
   "outputs": [],
   "source": [
    "import numpy as np\n",
    "import pandas as pd\n",
    "from decimal import Decimal"
   ]
  },
  {
   "cell_type": "code",
   "execution_count": 2,
   "metadata": {},
   "outputs": [],
   "source": [
    "StockReturns = pd.read_csv(\"BIGRETURNS.csv\", engine = \"python\")"
   ]
  },
  {
   "cell_type": "code",
   "execution_count": 3,
   "metadata": {},
   "outputs": [
    {
     "data": {
      "text/html": [
       "<div>\n",
       "<style scoped>\n",
       "    .dataframe tbody tr th:only-of-type {\n",
       "        vertical-align: middle;\n",
       "    }\n",
       "\n",
       "    .dataframe tbody tr th {\n",
       "        vertical-align: top;\n",
       "    }\n",
       "\n",
       "    .dataframe thead th {\n",
       "        text-align: right;\n",
       "    }\n",
       "</style>\n",
       "<table border=\"1\" class=\"dataframe\">\n",
       "  <thead>\n",
       "    <tr style=\"text-align: right;\">\n",
       "      <th></th>\n",
       "      <th>Date</th>\n",
       "      <th>AAPL</th>\n",
       "      <th>MSFT</th>\n",
       "      <th>XOM</th>\n",
       "      <th>JNJ</th>\n",
       "      <th>JPM</th>\n",
       "      <th>AMZN</th>\n",
       "      <th>GE</th>\n",
       "      <th>FB</th>\n",
       "      <th>T</th>\n",
       "    </tr>\n",
       "  </thead>\n",
       "  <tbody>\n",
       "    <tr>\n",
       "      <th>0</th>\n",
       "      <td>03/01/2017</td>\n",
       "      <td>0.002849</td>\n",
       "      <td>0.007081</td>\n",
       "      <td>0.006980</td>\n",
       "      <td>0.005468</td>\n",
       "      <td>0.010894</td>\n",
       "      <td>0.005068</td>\n",
       "      <td>0.002848</td>\n",
       "      <td>0.015732</td>\n",
       "      <td>0.011521</td>\n",
       "    </tr>\n",
       "    <tr>\n",
       "      <th>1</th>\n",
       "      <td>04/01/2017</td>\n",
       "      <td>-0.001119</td>\n",
       "      <td>-0.004474</td>\n",
       "      <td>-0.011002</td>\n",
       "      <td>-0.001640</td>\n",
       "      <td>0.001844</td>\n",
       "      <td>0.004657</td>\n",
       "      <td>0.000316</td>\n",
       "      <td>0.015660</td>\n",
       "      <td>-0.005811</td>\n",
       "    </tr>\n",
       "    <tr>\n",
       "      <th>2</th>\n",
       "      <td>05/01/2017</td>\n",
       "      <td>0.005085</td>\n",
       "      <td>0.000000</td>\n",
       "      <td>-0.014907</td>\n",
       "      <td>0.010463</td>\n",
       "      <td>-0.009205</td>\n",
       "      <td>0.030732</td>\n",
       "      <td>-0.005678</td>\n",
       "      <td>0.016682</td>\n",
       "      <td>-0.002806</td>\n",
       "    </tr>\n",
       "    <tr>\n",
       "      <th>3</th>\n",
       "      <td>06/01/2017</td>\n",
       "      <td>0.011148</td>\n",
       "      <td>0.008668</td>\n",
       "      <td>-0.000565</td>\n",
       "      <td>-0.004792</td>\n",
       "      <td>0.000116</td>\n",
       "      <td>0.019912</td>\n",
       "      <td>0.002855</td>\n",
       "      <td>0.022707</td>\n",
       "      <td>-0.019924</td>\n",
       "    </tr>\n",
       "    <tr>\n",
       "      <th>4</th>\n",
       "      <td>09/01/2017</td>\n",
       "      <td>0.009159</td>\n",
       "      <td>-0.003183</td>\n",
       "      <td>-0.016497</td>\n",
       "      <td>-0.000172</td>\n",
       "      <td>0.000697</td>\n",
       "      <td>0.001168</td>\n",
       "      <td>-0.004745</td>\n",
       "      <td>0.012074</td>\n",
       "      <td>-0.012585</td>\n",
       "    </tr>\n",
       "  </tbody>\n",
       "</table>\n",
       "</div>"
      ],
      "text/plain": [
       "         Date      AAPL      MSFT       XOM       JNJ       JPM      AMZN  \\\n",
       "0  03/01/2017  0.002849  0.007081  0.006980  0.005468  0.010894  0.005068   \n",
       "1  04/01/2017 -0.001119 -0.004474 -0.011002 -0.001640  0.001844  0.004657   \n",
       "2  05/01/2017  0.005085  0.000000 -0.014907  0.010463 -0.009205  0.030732   \n",
       "3  06/01/2017  0.011148  0.008668 -0.000565 -0.004792  0.000116  0.019912   \n",
       "4  09/01/2017  0.009159 -0.003183 -0.016497 -0.000172  0.000697  0.001168   \n",
       "\n",
       "         GE        FB         T  \n",
       "0  0.002848  0.015732  0.011521  \n",
       "1  0.000316  0.015660 -0.005811  \n",
       "2 -0.005678  0.016682 -0.002806  \n",
       "3  0.002855  0.022707 -0.019924  \n",
       "4 -0.004745  0.012074 -0.012585  "
      ]
     },
     "execution_count": 3,
     "metadata": {},
     "output_type": "execute_result"
    }
   ],
   "source": [
    "StockReturns.head()"
   ]
  },
  {
   "cell_type": "code",
   "execution_count": 4,
   "metadata": {},
   "outputs": [],
   "source": [
    "StockReturnValues = StockReturns.loc[:, StockReturns.columns != 'Date']"
   ]
  },
  {
   "cell_type": "code",
   "execution_count": 5,
   "metadata": {},
   "outputs": [],
   "source": [
    "portfolio_weights = ([0.12, 0.15, 0.08, 0.05, 0.09, 0.10, 0.11, 0.14, 0.16])"
   ]
  },
  {
   "cell_type": "code",
   "execution_count": 6,
   "metadata": {},
   "outputs": [
    {
     "data": {
      "text/plain": [
       "[0.12, 0.15, 0.08, 0.05, 0.09, 0.1, 0.11, 0.14, 0.16]"
      ]
     },
     "execution_count": 6,
     "metadata": {},
     "output_type": "execute_result"
    }
   ],
   "source": [
    "portfolio_weights"
   ]
  },
  {
   "cell_type": "code",
   "execution_count": 7,
   "metadata": {},
   "outputs": [],
   "source": [
    "WeightedReturns = StockReturnValues.mul(portfolio_weights, axis=1).sum(axis=1)"
   ]
  },
  {
   "cell_type": "code",
   "execution_count": 8,
   "metadata": {},
   "outputs": [
    {
     "data": {
      "text/plain": [
       "0    0.008082\n",
       "1    0.000161\n",
       "2    0.003448\n",
       "3    0.004660\n",
       "4   -0.001372\n",
       "5   -0.001758\n",
       "6    0.004808\n",
       "7    0.000487\n",
       "8    0.002517\n",
       "9   -0.002806\n",
       "dtype: float64"
      ]
     },
     "execution_count": 8,
     "metadata": {},
     "output_type": "execute_result"
    }
   ],
   "source": [
    "WeightedReturns.head(10)"
   ]
  },
  {
   "cell_type": "code",
   "execution_count": 9,
   "metadata": {},
   "outputs": [],
   "source": [
    "import matplotlib.pyplot as plt "
   ]
  },
  {
   "cell_type": "code",
   "execution_count": 10,
   "metadata": {},
   "outputs": [
    {
     "data": {
      "text/plain": [
       "(array([ 1.,  0.,  0.,  0.,  0.,  0.,  0.,  0.,  0.,  0.,  1.,  1.,  0.,\n",
       "         0.,  0.,  2.,  3.,  1.,  2.,  2.,  1.,  5.,  2.,  6.,  6.,  7.,\n",
       "        10.,  9., 14., 15., 25., 18., 22., 15., 11., 17., 13.,  9.,  8.,\n",
       "         3.,  7.,  2.,  6.,  1.,  3.,  1.,  0.,  0.,  0.,  1.,  0.,  0.,\n",
       "         0.,  0.,  0.,  0.,  0.,  0.,  0.,  0.,  0.,  0.,  0.,  0.,  0.,\n",
       "         0.,  0.,  0.,  0.,  1.]),\n",
       " array([-0.02494804, -0.02413491, -0.02332177, -0.02250864, -0.0216955 ,\n",
       "        -0.02088236, -0.02006923, -0.01925609, -0.01844296, -0.01762982,\n",
       "        -0.01681668, -0.01600355, -0.01519041, -0.01437727, -0.01356414,\n",
       "        -0.012751  , -0.01193787, -0.01112473, -0.01031159, -0.00949846,\n",
       "        -0.00868532, -0.00787218, -0.00705905, -0.00624591, -0.00543278,\n",
       "        -0.00461964, -0.0038065 , -0.00299337, -0.00218023, -0.0013671 ,\n",
       "        -0.00055396,  0.00025918,  0.00107231,  0.00188545,  0.00269859,\n",
       "         0.00351172,  0.00432486,  0.00513799,  0.00595113,  0.00676427,\n",
       "         0.0075774 ,  0.00839054,  0.00920368,  0.01001681,  0.01082995,\n",
       "         0.01164308,  0.01245622,  0.01326936,  0.01408249,  0.01489563,\n",
       "         0.01570876,  0.0165219 ,  0.01733504,  0.01814817,  0.01896131,\n",
       "         0.01977445,  0.02058758,  0.02140072,  0.02221385,  0.02302699,\n",
       "         0.02384013,  0.02465326,  0.0254664 ,  0.02627954,  0.02709267,\n",
       "         0.02790581,  0.02871894,  0.02953208,  0.03034522,  0.03115835,\n",
       "         0.03197149]),\n",
       " <a list of 70 Patch objects>)"
      ]
     },
     "execution_count": 10,
     "metadata": {},
     "output_type": "execute_result"
    },
    {
     "data": {
      "image/png": "[encoded data removed]",
      "text/plain": [
       "<Figure size 432x288 with 1 Axes>"
      ]
     },
     "metadata": {
      "needs_background": "light"
     },
     "output_type": "display_data"
    }
   ],
   "source": [
    "plt.hist(WeightedReturns, bins =70)"
   ]
  },
  {
   "cell_type": "code",
   "execution_count": 11,
   "metadata": {},
   "outputs": [
    {
     "data": {
      "text/plain": [
       "[<matplotlib.lines.Line2D at 0x1e13327b080>]"
      ]
     },
     "execution_count": 11,
     "metadata": {},
     "output_type": "execute_result"
    },
    {
     "data": {
      "image/png": "[encoded data removed]",
      "text/plain": [
       "<Figure size 432x288 with 1 Axes>"
      ]
     },
     "metadata": {
      "needs_background": "light"
     },
     "output_type": "display_data"
    }
   ],
   "source": [
    "plt.plot(WeightedReturns)"
   ]
  },
  {
   "cell_type": "code",
   "execution_count": 12,
   "metadata": {},
   "outputs": [],
   "source": [
    "var_level = 95\n",
    "var_95 = np.percentile(WeightedReturns,100 - var_level)"
   ]
  },
  {
   "cell_type": "code",
   "execution_count": 13,
   "metadata": {},
   "outputs": [
    {
     "data": {
      "text/plain": [
       "-0.00885644953"
      ]
     },
     "execution_count": 13,
     "metadata": {},
     "output_type": "execute_result"
    }
   ],
   "source": [
    "var_95"
   ]
  },
  {
   "cell_type": "code",
   "execution_count": 14,
   "metadata": {},
   "outputs": [],
   "source": [
    "cvar_95 = WeightedReturns[WeightedReturns<= var_95].mean()"
   ]
  },
  {
   "cell_type": "code",
   "execution_count": 15,
   "metadata": {},
   "outputs": [
    {
     "data": {
      "text/plain": [
       "-0.012728953618461538"
      ]
     },
     "execution_count": 15,
     "metadata": {},
     "output_type": "execute_result"
    }
   ],
   "source": [
    "cvar_95"
   ]
  },
  {
   "cell_type": "code",
   "execution_count": 17,
   "metadata": {},
   "outputs": [
    {
     "data": {
      "text/plain": [
       "[<matplotlib.lines.Line2D at 0x1e13333e358>]"
      ]
     },
     "execution_count": 17,
     "metadata": {},
     "output_type": "execute_result"
    },
    {
     "data": {
      "image/png": "[encoded data removed]",
      "text/plain": [
       "<Figure size 432x288 with 1 Axes>"
      ]
     },
     "metadata": {
      "needs_background": "light"
     },
     "output_type": "display_data"
    }
   ],
   "source": []
  },
  {
   "cell_type": "code",
   "execution_count": null,
   "metadata": {},
   "outputs": [],
   "source": []
  },
  {
   "cell_type": "code",
   "execution_count": null,
   "metadata": {},
   "outputs": [],
   "source": []
  }
 ],
 "metadata": {
  "kernelspec": {
   "display_name": "Python 3",
   "language": "python",
   "name": "python3"
  },
  "language_info": {
   "codemirror_mode": {
    "name": "ipython",
    "version": 3
   },
   "file_extension": ".py",
   "mimetype": "text/x-python",
   "name": "python",
   "nbconvert_exporter": "python",
   "pygments_lexer": "ipython3",
   "version": "3.6.7"
  }
 },
 "nbformat": 4,
 "nbformat_minor": 2
}
